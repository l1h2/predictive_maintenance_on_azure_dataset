{
 "cells": [
  {
   "cell_type": "markdown",
   "metadata": {},
   "source": [
    "# Predictive Maintenance with Azure Dataset\n",
    "\n",
    "## Project imports"
   ]
  },
  {
   "cell_type": "code",
   "execution_count": 1,
   "metadata": {},
   "outputs": [],
   "source": [
    "import pandas as pd"
   ]
  },
  {
   "cell_type": "markdown",
   "metadata": {},
   "source": [
    "## Data Imports\n",
    "\n",
    "Needs pre-processing.ipynb to be run first"
   ]
  },
  {
   "cell_type": "code",
   "execution_count": 2,
   "metadata": {},
   "outputs": [],
   "source": [
    "def read(name: str, parse_dates: list[str] | None = [\"datetime\"]) -> pd.DataFrame:\n",
    "    path = \"data/\"\n",
    "    ext = \".csv\"\n",
    "    file = path + name + ext\n",
    "    return pd.read_csv(file, parse_dates=parse_dates, na_values=\"NaN\")\n",
    "\n",
    "VARIABLES = [\"volt\", \"rotate\", \"pressure\", \"vibration\"]\n",
    "DATA = read(\"raw_data\").dropna(subset=VARIABLES)\n",
    "normal_behavior_data = read(\"preprocessing/expected_behavior\")\n",
    "abnormal_data = read(\"preprocessing/failures_only\")"
   ]
  },
  {
   "cell_type": "markdown",
   "metadata": {},
   "source": [
    "## Full dataset classification\n",
    "\n",
    "### KNN\n",
    "\n",
    "#### Pre-processing"
   ]
  },
  {
   "cell_type": "code",
   "execution_count": 3,
   "metadata": {},
   "outputs": [],
   "source": [
    "from sklearn.compose import ColumnTransformer\n",
    "from sklearn.impute import SimpleImputer\n",
    "from sklearn.pipeline import Pipeline\n",
    "from sklearn.preprocessing import OrdinalEncoder, StandardScaler\n",
    "\n",
    "STATE = 42\n",
    "\n",
    "independent_data = DATA.drop(\n",
    "    columns=[\"datetime\", \"machineID\", \"errorID\", \"failure\", \"comp\"]\n",
    ")\n",
    "labels = DATA[[\"errorID\", \"failure\", \"comp\"]]\n",
    "\n",
    "numeric_features = [\"volt\", \"rotate\", \"pressure\", \"vibration\", \"age\"]\n",
    "numeric_transformer = Pipeline(\n",
    "    steps=[(\"imputer\", SimpleImputer(strategy=\"median\")), (\"scaler\", StandardScaler())]\n",
    ")\n",
    "\n",
    "categorical_features = [\"model\"]\n",
    "categorical_transformer = Pipeline(\n",
    "    steps=[\n",
    "        (\"imputer\", SimpleImputer(strategy=\"constant\", fill_value=\"missing\")),\n",
    "        (\"ordinal\", OrdinalEncoder()),\n",
    "    ]\n",
    ")\n",
    "\n",
    "preprocessor = ColumnTransformer(\n",
    "    transformers=[\n",
    "        (\"num\", numeric_transformer, numeric_features),\n",
    "        (\"cat\", categorical_transformer, categorical_features),\n",
    "    ]\n",
    ")\n",
    "\n",
    "preprocessed_data = preprocessor.fit_transform(independent_data)"
   ]
  },
  {
   "cell_type": "markdown",
   "metadata": {},
   "source": [
    "#### Model"
   ]
  },
  {
   "cell_type": "code",
   "execution_count": 4,
   "metadata": {},
   "outputs": [
    {
     "name": "stdout",
     "output_type": "stream",
     "text": [
      "Classification report for errorID:\n",
      "              precision    recall  f1-score   support\n",
      "\n",
      "  No Anomaly       1.00      1.00      1.00    174705\n",
      "      error1       0.00      0.00      0.00       204\n",
      "      error2       0.33      0.01      0.01       179\n",
      "      error3       0.00      0.00      0.00       156\n",
      "      error4       0.00      0.00      0.00       134\n",
      "      error5       1.00      0.00      0.00        64\n",
      "\n",
      "    accuracy                           1.00    175442\n",
      "   macro avg       0.39      0.17      0.17    175442\n",
      "weighted avg       0.99      1.00      0.99    175442\n",
      "\n",
      "Classification report for failure:\n",
      "              precision    recall  f1-score   support\n",
      "\n",
      "  No Anomaly       1.00      1.00      1.00    175216\n",
      "       comp1       0.00      0.00      0.00        64\n",
      "       comp2       0.00      0.00      0.00        69\n",
      "       comp3       0.00      0.00      0.00        39\n",
      "       comp4       0.00      0.00      0.00        54\n",
      "\n",
      "    accuracy                           1.00    175442\n",
      "   macro avg       0.20      0.20      0.20    175442\n",
      "weighted avg       1.00      1.00      1.00    175442\n",
      "\n",
      "Classification report for comp:\n",
      "              precision    recall  f1-score   support\n",
      "\n",
      "  No Anomaly       1.00      1.00      1.00    174838\n",
      "       comp1       0.00      0.00      0.00       139\n",
      "       comp2       0.00      0.00      0.00       154\n",
      "       comp3       0.00      0.00      0.00       160\n",
      "       comp4       0.00      0.00      0.00       151\n",
      "\n",
      "    accuracy                           1.00    175442\n",
      "   macro avg       0.20      0.20      0.20    175442\n",
      "weighted avg       0.99      1.00      0.99    175442\n",
      "\n"
     ]
    }
   ],
   "source": [
    "from sklearn.metrics import classification_report\n",
    "from sklearn.model_selection import train_test_split\n",
    "from sklearn.neighbors import KNeighborsClassifier\n",
    "\n",
    "X = preprocessed_data\n",
    "\n",
    "# Run the classifier for each label\n",
    "for label in [\"errorID\", \"failure\", \"comp\"]:\n",
    "    print(f\"Classification report for {label}:\")\n",
    "    y = labels[label].fillna(\"No Anomaly\")\n",
    "    X_train, X_test, y_train, y_test = train_test_split(\n",
    "        X, y, test_size=0.2, random_state=STATE\n",
    "    )\n",
    "\n",
    "    # Train a KNN classifier\n",
    "    knn = KNeighborsClassifier(n_neighbors=3)\n",
    "    knn.fit(X_train, y_train)\n",
    "\n",
    "    # Evaluate the classifier\n",
    "    y_pred = knn.predict(X_test)\n",
    "    print(classification_report(y_test, y_pred, zero_division=1))"
   ]
  },
  {
   "cell_type": "markdown",
   "metadata": {},
   "source": [
    "#### Broadening classification to only two cases"
   ]
  },
  {
   "cell_type": "code",
   "execution_count": 5,
   "metadata": {},
   "outputs": [
    {
     "name": "stdout",
     "output_type": "stream",
     "text": [
      "              precision    recall  f1-score   support\n",
      "\n",
      "     Anomaly       0.14      0.04      0.06      1338\n",
      "  No Anomaly       0.99      1.00      1.00    174104\n",
      "\n",
      "    accuracy                           0.99    175442\n",
      "   macro avg       0.57      0.52      0.53    175442\n",
      "weighted avg       0.99      0.99      0.99    175442\n",
      "\n"
     ]
    }
   ],
   "source": [
    "# Combine the labels into a single binary label\n",
    "labels_combined = labels.any(axis=1).replace({False: \"No Anomaly\", True: \"Anomaly\"})\n",
    "\n",
    "X = preprocessed_data\n",
    "y = labels_combined\n",
    "\n",
    "X_train, X_test, y_train, y_test = train_test_split(\n",
    "    X, y, test_size=0.2, random_state=STATE\n",
    ")\n",
    "knn = KNeighborsClassifier(n_neighbors=3)\n",
    "knn.fit(X_train, y_train)\n",
    "\n",
    "y_pred = knn.predict(X_test)\n",
    "print(classification_report(y_test, y_pred))"
   ]
  }
 ],
 "metadata": {
  "kernelspec": {
   "display_name": ".venv",
   "language": "python",
   "name": "python3"
  },
  "language_info": {
   "codemirror_mode": {
    "name": "ipython",
    "version": 3
   },
   "file_extension": ".py",
   "mimetype": "text/x-python",
   "name": "python",
   "nbconvert_exporter": "python",
   "pygments_lexer": "ipython3",
   "version": "3.12.1"
  }
 },
 "nbformat": 4,
 "nbformat_minor": 2
}
