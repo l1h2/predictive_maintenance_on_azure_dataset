{
 "cells": [
  {
   "cell_type": "markdown",
   "metadata": {},
   "source": [
    "# Predictive Maintenance with Azure Dataset\n",
    "\n",
    "## Project imports"
   ]
  },
  {
   "cell_type": "code",
   "execution_count": 4,
   "metadata": {},
   "outputs": [],
   "source": [
    "import numpy as np\n",
    "import pandas as pd"
   ]
  },
  {
   "cell_type": "markdown",
   "metadata": {},
   "source": [
    "## Data Imports\n",
    "\n",
    "Needs data_extraction.ipynb to be run first"
   ]
  },
  {
   "cell_type": "code",
   "execution_count": 5,
   "metadata": {},
   "outputs": [],
   "source": [
    "def read(name: str, parse_dates: list[str] | None = [\"datetime\"]) -> pd.DataFrame:\n",
    "    path = \"data/\"\n",
    "    ext = \".csv\"\n",
    "    file = path + name + ext\n",
    "    return pd.read_csv(file, parse_dates=parse_dates, na_values=\"NaN\")\n",
    "\n",
    "\n",
    "data = read(\"raw_data\")\n",
    "errors = read(\"PdM_errors\")\n",
    "failures = read(\"PdM_failures\")\n",
    "maint = read(\"PdM_maint\")"
   ]
  },
  {
   "cell_type": "markdown",
   "metadata": {},
   "source": [
    "## Pre-processing\n",
    "\n",
    "Pre-processing the data to prepare it for predictive maintenance.\n",
    "\n",
    "### Removing suspected abnormal data"
   ]
  },
  {
   "cell_type": "code",
   "execution_count": 7,
   "metadata": {},
   "outputs": [
    {
     "name": "stdout",
     "output_type": "stream",
     "text": [
      "               datetime  machineID        volt      rotate    pressure  \\\n",
      "4   2015-01-01 06:00:00          1  176.217853  418.504078  113.077935   \n",
      "108 2015-01-05 13:00:00          1  180.511003  429.058686  107.314608   \n",
      "109 2015-01-05 14:00:00          1  174.675215  396.757832  111.505227   \n",
      "110 2015-01-05 15:00:00          1  181.406935  575.505189  102.008082   \n",
      "111 2015-01-05 16:00:00          1  197.636954  448.467915   78.721961   \n",
      "\n",
      "     vibration   model  age  \n",
      "4    45.087686  model3   18  \n",
      "108  39.232469  model3   18  \n",
      "109  33.156011  model3   18  \n",
      "110  38.054036  model3   18  \n",
      "111  34.367747  model3   18  \n"
     ]
    }
   ],
   "source": [
    "time_before = 48\n",
    "time_after = 6\n",
    "\n",
    "normal_behavior_data = data.copy()\n",
    "variables = [\"volt\", \"rotate\", \"pressure\", \"vibration\"]\n",
    "normal_behavior_data = normal_behavior_data.dropna(subset=variables)\n",
    "normal_behavior_data = normal_behavior_data.drop(columns=[\"errorID\", \"failure\", \"comp\"])\n",
    "anomalies = [failures, errors, maint]\n",
    "\n",
    "# Create a DataFrame of all the windows around the anomalies\n",
    "windows = pd.concat(\n",
    "    [\n",
    "        anomaly.assign(\n",
    "            start=anomaly[\"datetime\"] - pd.Timedelta(hours=time_before),\n",
    "            end=anomaly[\"datetime\"] + pd.Timedelta(hours=time_after),\n",
    "        )\n",
    "        for anomaly in anomalies\n",
    "    ]\n",
    ")\n",
    "\n",
    "# Initialize a mask with all False\n",
    "mask = pd.Series([False] * len(normal_behavior_data), index=normal_behavior_data.index)\n",
    "\n",
    "# Update mask for each window values\n",
    "for _, window in windows.iterrows():\n",
    "    mask |= (\n",
    "        (normal_behavior_data[\"machineID\"] == window[\"machineID\"])\n",
    "        & (normal_behavior_data[\"datetime\"] >= window[\"start\"])\n",
    "        & (normal_behavior_data[\"datetime\"] <= window[\"end\"])\n",
    "    )\n",
    "\n",
    "# Create a DataFrame with the removed data\n",
    "removed_data = normal_behavior_data[mask]\n",
    "removed_data = removed_data.drop_duplicates()\n",
    "removed_data.to_csv(\"data/preprocessing/failures_only.csv\", index=False)\n",
    "\n",
    "# Filter normal_behavior_data\n",
    "normal_behavior_data = normal_behavior_data[~mask]\n",
    "normal_behavior_data.to_csv(\"data/preprocessing/expected_behavior.csv\", index=False)\n",
    "print(normal_behavior_data.head())"
   ]
  },
  {
   "cell_type": "markdown",
   "metadata": {},
   "source": [
    "### Identifying machine expected behavior"
   ]
  },
  {
   "cell_type": "code",
   "execution_count": 8,
   "metadata": {},
   "outputs": [
    {
     "name": "stdout",
     "output_type": "stream",
     "text": [
      "  machineID   variable        mean      median        std  \\\n",
      "0       all       volt  170.585667  170.453691  15.378671   \n",
      "1       all     rotate  447.774725  448.413383  51.820495   \n",
      "2       all   pressure  100.673857  100.335225  10.832220   \n",
      "3       all  vibration   40.292168   40.181184   5.278982   \n",
      "\n",
      "                     confidence_interval_95      skew  kurtosis         min  \\\n",
      "0   (170.5473486438166, 170.62398550059842)  0.066006  0.079516   97.333604   \n",
      "1    (447.6456062965298, 447.9038444620059) -0.095101  0.136754  160.258190   \n",
      "2  (100.64686638533253, 100.70084681439623)  0.334694  0.729312   51.237106   \n",
      "3    (40.27901420978728, 40.30532107051222)  0.192482  0.355528   14.877054   \n",
      "\n",
      "   lower_fence          q1          q3  upper_fence         max  \\\n",
      "0   129.315043  160.203042  180.795042   211.683041  250.870453   \n",
      "1   309.901260  413.610414  482.749849   586.459003  695.020984   \n",
      "2    72.543442   93.446370  107.381656   128.284584  182.111770   \n",
      "3    26.322213   36.741937   43.688420    54.108145   76.791072   \n",
      "\n",
      "                                            outliers  \n",
      "0  [213.787101960764, 121.502718006153, 119.05904...  \n",
      "1  [307.175548839697, 586.9459625212, 283.2445794...  \n",
      "2  [58.7337237736923, 68.7606546156509, 68.823290...  \n",
      "3  [54.9195465697047, 57.2357648058237, 23.025058...  \n"
     ]
    }
   ],
   "source": [
    "from scipy.stats import kurtosis, skew, t\n",
    "\n",
    "\n",
    "def calculate_statistics(\n",
    "    machine_data: pd.DataFrame, machine_id: str | int\n",
    ") -> list[dict]:\n",
    "    variables = [\"volt\", \"rotate\", \"pressure\", \"vibration\"]\n",
    "    results = []\n",
    "    for var in variables:\n",
    "        machine_var = machine_data[var]\n",
    "        mean = machine_var.mean()\n",
    "        std = machine_var.std()\n",
    "        n = machine_var.count()\n",
    "        confidence_interval = t.interval(0.95, df=n - 1, loc=mean, scale=std / np.sqrt(n))\n",
    "        q1 = machine_var.quantile(0.25)\n",
    "        q3 = machine_var.quantile(0.75)\n",
    "        iqr = q3 - q1\n",
    "        lower_fence = q1 - 1.5 * iqr\n",
    "        upper_fence = q3 + 1.5 * iqr\n",
    "        outliers = machine_var[(machine_var < lower_fence) | (machine_var > upper_fence)]\n",
    "\n",
    "        results.append({\n",
    "            \"machineID\": machine_id,\n",
    "            \"variable\": var,\n",
    "            \"mean\": mean,\n",
    "            \"median\": machine_var.median(),\n",
    "            \"std\": std,\n",
    "            \"confidence_interval_95\": confidence_interval,\n",
    "            \"skew\": skew(machine_var),\n",
    "            \"kurtosis\": kurtosis(machine_var),\n",
    "            \"min\": machine_var.min(),\n",
    "            \"lower_fence\": lower_fence,\n",
    "            \"q1\": q1,\n",
    "            \"q3\": q3,\n",
    "            \"upper_fence\": upper_fence,\n",
    "            \"max\": machine_var.max(),\n",
    "            \"outliers\": outliers.values.tolist()\n",
    "        })\n",
    "    return results\n",
    "\n",
    "\n",
    "# Results for the entire dataset\n",
    "statistics = calculate_statistics(normal_behavior_data, \"all\")\n",
    "\n",
    "# Results for each machine\n",
    "statistics += [\n",
    "    result\n",
    "    for id in normal_behavior_data[\"machineID\"].unique()\n",
    "    for result in calculate_statistics(\n",
    "        normal_behavior_data[normal_behavior_data[\"machineID\"] == id], id\n",
    "    )\n",
    "]\n",
    "\n",
    "# Convert the results to a DataFrame\n",
    "statistics_df = pd.DataFrame(statistics)\n",
    "statistics_df.to_csv(\"data/preprocessing/statistics.csv\", index=False)\n",
    "print(statistics_df.head(4))"
   ]
  },
  {
   "cell_type": "markdown",
   "metadata": {},
   "source": [
    "### Identifying machine failure behavior"
   ]
  },
  {
   "cell_type": "code",
   "execution_count": 9,
   "metadata": {},
   "outputs": [
    {
     "name": "stdout",
     "output_type": "stream",
     "text": [
      "  machineID   variable        mean      median        std  \\\n",
      "0       all       volt  171.239549  170.989856  15.808833   \n",
      "1       all     rotate  443.792910  445.451349  54.568890   \n",
      "2       all   pressure  101.303030  100.649051  11.540464   \n",
      "3       all  vibration   40.608230   40.378852   5.577645   \n",
      "\n",
      "                     confidence_interval_95      skew  kurtosis         min  \\\n",
      "0   (171.17846972551618, 171.3006282430816)  0.127922  0.177492  100.194137   \n",
      "1   (443.5820770580944, 444.00374352779164) -0.224588  0.282028  138.432075   \n",
      "2  (101.25844165071973, 101.34761749075201)  0.525895  1.075901   54.170030   \n",
      "3    (40.58667980246432, 40.62977956050882)  0.350834  0.621969   16.222680   \n",
      "\n",
      "   lower_fence          q1          q3  upper_fence         max  \\\n",
      "0   129.070249  160.551789  181.539482   213.021022  255.124717   \n",
      "1   301.612288  409.115521  480.784343   588.287576  675.685691   \n",
      "2    72.107364   93.629721  107.977959   129.500316  185.951998   \n",
      "3    26.122543   36.864514   44.025828    54.767799   73.948949   \n",
      "\n",
      "                                            outliers  \n",
      "0  [215.656488291429, 129.016707155663, 127.16362...  \n",
      "1  [296.097456538899, 613.356452589795, 279.69506...  \n",
      "2  [70.4231816762817, 69.3464312875619, 129.92202...  \n",
      "3  [25.9905109982024, 55.7680965643237, 55.062110...  \n"
     ]
    }
   ],
   "source": [
    "# Results for the entire dataset\n",
    "failure_stats = calculate_statistics(removed_data, \"all\")\n",
    "\n",
    "# Results for each machine\n",
    "failure_stats += [\n",
    "    result\n",
    "    for id in removed_data[\"machineID\"].unique()\n",
    "    for result in calculate_statistics(\n",
    "        removed_data[removed_data[\"machineID\"] == id], id\n",
    "    )\n",
    "]\n",
    "\n",
    "# Convert the results to a DataFrame\n",
    "failure_stats_df = pd.DataFrame(failure_stats)\n",
    "failure_stats_df.to_csv(\"data/preprocessing/failures_statistics.csv\", index=False)\n",
    "print(failure_stats_df.head(4))"
   ]
  }
 ],
 "metadata": {
  "kernelspec": {
   "display_name": ".venv",
   "language": "python",
   "name": "python3"
  },
  "language_info": {
   "codemirror_mode": {
    "name": "ipython",
    "version": 3
   },
   "file_extension": ".py",
   "mimetype": "text/x-python",
   "name": "python",
   "nbconvert_exporter": "python",
   "pygments_lexer": "ipython3",
   "version": "3.12.1"
  }
 },
 "nbformat": 4,
 "nbformat_minor": 2
}
