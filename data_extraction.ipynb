{
 "cells": [
  {
   "cell_type": "markdown",
   "metadata": {},
   "source": [
    "# Predictive Maintenance with Azure Dataset\n",
    "\n",
    "## Project imports"
   ]
  },
  {
   "cell_type": "code",
   "execution_count": 1,
   "metadata": {},
   "outputs": [],
   "source": [
    "import pandas as pd"
   ]
  },
  {
   "cell_type": "markdown",
   "metadata": {},
   "source": [
    "## Data Imports\n",
    "\n",
    "Importing data from downloaded files and creating dataframes for each file:\n",
    "\n",
    "**Telemetry**\n",
    "\n",
    "This dataset contains telemetry data collected from machines at different timestamps. It includes measurements of voltage, rotation, pressure, and vibration.\n",
    "\n",
    "- Columns: `datetime`, `machineID`, `volt`, `rotate`, `pressure`, `vibration`\n",
    "\n",
    "**Errors**\n",
    "\n",
    "This dataset records the occurrence of errors in machines at different timestamps. Each error is identified by an error code.\n",
    "\n",
    "- Columns: `datetime`, `machineID`, `errorID`\n",
    "\n",
    "**Failures**\n",
    "\n",
    "This dataset tracks the failures of machines at different timestamps. Each failure is associated with a specific component.\n",
    "\n",
    "- Columns: `datetime`, `machineID`, `failure`\n",
    "\n",
    "**Machines**\n",
    "\n",
    "This dataset contains information about the machines, including their IDs, models, and ages.\n",
    "\n",
    "- Columns: `machineID`, `model`, `age`\n",
    "\n",
    "**Maintenance**\n",
    "\n",
    "This dataset logs the maintenance activities performed on machines at different timestamps. Each maintenance record is associated with a specific component.\n",
    "\n",
    "- Columns: `datetime`, `machineID`, `comp`"
   ]
  },
  {
   "cell_type": "code",
   "execution_count": 2,
   "metadata": {},
   "outputs": [],
   "source": [
    "def read(name: str, parse_dates: list[str] | None = [\"datetime\"]) -> pd.DataFrame:\n",
    "    path = \"data/\"\n",
    "    ext = \".csv\"\n",
    "    file = path + name + ext\n",
    "    return pd.read_csv(file, parse_dates=parse_dates)\n",
    "\n",
    "\n",
    "telemetry = read(\"PdM_telemetry\")\n",
    "errors = read(\"PdM_errors\")\n",
    "failures = read(\"PdM_failures\")\n",
    "maint = read(\"PdM_maint\")\n",
    "machines = read(\"PdM_machines\", parse_dates=None)"
   ]
  },
  {
   "cell_type": "markdown",
   "metadata": {},
   "source": [
    "### Merging all the dataframes into a single dataframe:\n",
    "\n",
    "- Merging `telemetry`, `errors`, `failures`, `machines`, and `maintenance` dataframes into a single dataframe `df` using the `machineID` and `datetime` columns as keys."
   ]
  },
  {
   "cell_type": "code",
   "execution_count": 3,
   "metadata": {},
   "outputs": [
    {
     "name": "stdout",
     "output_type": "stream",
     "text": [
      "             datetime  machineID errorID failure   comp        volt  \\\n",
      "0 2014-06-01 06:00:00          1     NaN     NaN  comp2         NaN   \n",
      "1 2014-07-16 06:00:00          1     NaN     NaN  comp4         NaN   \n",
      "2 2014-07-31 06:00:00          1     NaN     NaN  comp3         NaN   \n",
      "3 2014-12-13 06:00:00          1     NaN     NaN  comp1         NaN   \n",
      "4 2015-01-01 06:00:00          1     NaN     NaN    NaN  176.217853   \n",
      "\n",
      "       rotate    pressure  vibration   model  age  \n",
      "0         NaN         NaN        NaN  model3   18  \n",
      "1         NaN         NaN        NaN  model3   18  \n",
      "2         NaN         NaN        NaN  model3   18  \n",
      "3         NaN         NaN        NaN  model3   18  \n",
      "4  418.504078  113.077935  45.087686  model3   18  \n"
     ]
    }
   ],
   "source": [
    "from functools import reduce\n",
    "\n",
    "# Merge 'telemetry' last to reduce cost of joining operations\n",
    "dataframes = [errors, failures, maint, telemetry]\n",
    "data = reduce(\n",
    "    lambda left, right: pd.merge(\n",
    "        left, right, on=[\"datetime\", \"machineID\"], how=\"outer\"\n",
    "    ),\n",
    "    dataframes,\n",
    ")\n",
    "\n",
    "# Merge 'machines' separately on 'machineID'\n",
    "data = data.merge(machines, on=\"machineID\", how=\"outer\")\n",
    "\n",
    "# Sort by 'machineID' and 'datetime'\n",
    "data = data.sort_values(by=[\"machineID\" , \"datetime\"])\n",
    "\n",
    "print(data.head())"
   ]
  },
  {
   "cell_type": "markdown",
   "metadata": {},
   "source": [
    "### Saving merged dataframe to a CSV file for future use."
   ]
  },
  {
   "cell_type": "code",
   "execution_count": 4,
   "metadata": {},
   "outputs": [],
   "source": [
    "# Replace missing values for better visualization in csv file\n",
    "raw_data = data.fillna(\"NaN\")\n",
    "\n",
    "raw_data.to_csv(\"data/raw_data.csv\", index=False)"
   ]
  }
 ],
 "metadata": {
  "kernelspec": {
   "display_name": ".venv",
   "language": "python",
   "name": "python3"
  },
  "language_info": {
   "codemirror_mode": {
    "name": "ipython",
    "version": 3
   },
   "file_extension": ".py",
   "mimetype": "text/x-python",
   "name": "python",
   "nbconvert_exporter": "python",
   "pygments_lexer": "ipython3",
   "version": "3.12.1"
  }
 },
 "nbformat": 4,
 "nbformat_minor": 2
}
